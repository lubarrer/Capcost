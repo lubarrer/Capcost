{
  "cells": [
    {
      "cell_type": "code",
      "execution_count": 41,
      "metadata": {
        "id": "xQk4ZWm_6biJ"
      },
      "outputs": [
        {
          "data": {
            "text/html": [
              "<style>\n",
              ".output {\n",
              "    flex-direction: row;\n",
              "}\n",
              "</style>"
            ],
            "text/plain": [
              "<IPython.core.display.HTML object>"
            ]
          },
          "execution_count": 41,
          "metadata": {},
          "output_type": "execute_result"
        }
      ],
      "source": [
        "import numpy as np\n",
        "import pandas as pd\n",
        "import matplotlib.pyplot as plt\n",
        "from IPython.display import display, HTML\n",
        "from scripts.helpful_scripts import annual, cash_flow\n",
        "from scripts.equipment import pump, heatex, heater, Vvessel, Hvessel\n",
        "from numpy_financial import numpy_financial as npf\n",
        "\n",
        "css = \"\"\"\n",
        ".output {\n",
        "    flex-direction: row;\n",
        "}\n",
        "\"\"\"\n",
        "\n",
        "HTML('<style>{}</style>'.format(css))"
      ]
    },
    {
      "cell_type": "code",
      "execution_count": 42,
      "metadata": {
        "id": "aTfmmHRVA1G2"
      },
      "outputs": [],
      "source": [
        "raw_materials = pd.DataFrame({'Component': ['Ethylbenzene', 'Waste Water', 'Catalyst'],\n",
        "                                'Price': [0.5, 0.005, 1], #($/lb_m)\n",
        "                                'Flowrate': [\n",
        "                                    ((27827.3*0.959))*8000, (17872.6 - (17524.6*0.9995))*8000, 22857.14]}).reset_index() # lb_m/op_yr\n",
        "\n",
        "products = pd.DataFrame({'Component': ['Styrene', 'Toluene'],\n",
        "                          'Price': [0.62, 0.44], #($/lb_m)\n",
        "                          'Flowrate': [22088.8*8000, 4263.01*8000]}).reset_index() # lb_m/op_yr\n",
        "                    \n",
        "utilities = pd.DataFrame({'Utility': ['LPS', 'MPS', 'HPS', 'Natural Gas', 'Electricity', 'BFW', 'CW', 'RW'],\n",
        "                          'Price': [13.28, 14.19, 17.70, 11.00, 0.06, 2.45/1000, 0.354, 4.43],\n",
        "                          'Unit': ['GJ', 'GJ', 'GJ', 'GJ', 'kW-h', 'kg', 'GJ', 'GJ'],\n",
        "                          'Usage': [0, (13.9766+29.1843)*8000, 0, (183.194)*8000, 0.176*8000, 0, (139.902+10.7555+29.1795+9.23)*8000, 0]}).reset_index()\n",
        "\n",
        "credits = pd.DataFrame({'Utility': ['LPS', 'MPS', 'HPS', 'Natural Gas', 'Fuel', 'Electricity', 'BFW', 'CW', 'RW'],\n",
        "                          'Price': [13.28, 14.19, 17.70, 11.00, 9.00, 0.06, 2.45/1000, 0.354, 4.43],\n",
        "                          'Unit': ['GJ', 'GJ', 'GJ', 'GJ', 'GJ', 'kW-h', 'kg', 'GJ', 'GJ'],\n",
        "                          'Usage': [0, 0, 0, 0, (24.708+9.4886)*8000, 0, 0, 0, 0]}).reset_index()\n",
        "\n",
        "waste_treatment = 27.6346*8000*6\n",
        "interest = 0.2 # interest rate\n",
        "n = 10 # project life"
      ]
    },
    {
      "cell_type": "code",
      "execution_count": 43,
      "metadata": {},
      "outputs": [
        {
          "name": "stdout",
          "output_type": "stream",
          "text": [
            "$1,605,380,005.02\n",
            "$264,486,673.94\n"
          ]
        }
      ],
      "source": [
        "# Equipment Pricing\n",
        "B1 = heater(63609/0.8) * 8\n",
        "B7 = pump(0.176134/0.8)*8\n",
        "R101 = Hvessel(1.57)*8\n",
        "B2 = heatex(28.5836)*8\n",
        "R102 = Hvessel(1.57)*8\n",
        "E102 = heatex(454.073)*8\n",
        "V101 = Vvessel(6.08)*4\n",
        "T101 = (Vvessel(110.09) + heatex(118.98) + heatex(152.028))*4\n",
        "T102 = (Vvessel(710.434) + heatex(111.44) + heatex(354.559))*4\n",
        "valves = 2749.70*4*4 + 2749.7*8\n",
        "#total_installed_cost = (B1 + B7 + R101 + B2 + R102 + E102 + V101 + T101 + T102 + valves)\n",
        "print('${:,.2f}'.format(total_installed_cost))\n",
        "print('${:,.2f}'.format(T102))\n",
        "total_installed_cost = 35_900_000"
      ]
    },
    {
      "cell_type": "code",
      "execution_count": 44,
      "metadata": {
        "colab": {
          "base_uri": "https://localhost:8080/",
          "height": 902
        },
        "id": "DzXrhvu3BZwb",
        "outputId": "25d4650f-167e-415d-b8ac-57bbcde688fb"
      },
      "outputs": [
        {
          "name": "stdout",
          "output_type": "stream",
          "text": [
            "Raw Materials\n"
          ]
        },
        {
          "data": {
            "text/html": [
              "<div>\n",
              "<style scoped>\n",
              "    .dataframe tbody tr th:only-of-type {\n",
              "        vertical-align: middle;\n",
              "    }\n",
              "\n",
              "    .dataframe tbody tr th {\n",
              "        vertical-align: top;\n",
              "    }\n",
              "\n",
              "    .dataframe thead th {\n",
              "        text-align: right;\n",
              "    }\n",
              "</style>\n",
              "<table border=\"1\" class=\"dataframe\">\n",
              "  <thead>\n",
              "    <tr style=\"text-align: right;\">\n",
              "      <th></th>\n",
              "      <th>index</th>\n",
              "      <th>Component</th>\n",
              "      <th>Price</th>\n",
              "      <th>Flowrate</th>\n",
              "    </tr>\n",
              "  </thead>\n",
              "  <tbody>\n",
              "    <tr>\n",
              "      <th>0</th>\n",
              "      <td>0</td>\n",
              "      <td>Ethylbenzene</td>\n",
              "      <td>0.500</td>\n",
              "      <td>2.134910e+08</td>\n",
              "    </tr>\n",
              "    <tr>\n",
              "      <th>1</th>\n",
              "      <td>1</td>\n",
              "      <td>Waste Water</td>\n",
              "      <td>0.005</td>\n",
              "      <td>2.854098e+06</td>\n",
              "    </tr>\n",
              "    <tr>\n",
              "      <th>2</th>\n",
              "      <td>2</td>\n",
              "      <td>Catalyst</td>\n",
              "      <td>1.000</td>\n",
              "      <td>2.285714e+04</td>\n",
              "    </tr>\n",
              "  </tbody>\n",
              "</table>\n",
              "</div>"
            ],
            "text/plain": [
              "   index     Component  Price      Flowrate\n",
              "0      0  Ethylbenzene  0.500  2.134910e+08\n",
              "1      1   Waste Water  0.005  2.854098e+06\n",
              "2      2      Catalyst  1.000  2.285714e+04"
            ]
          },
          "metadata": {},
          "output_type": "display_data"
        },
        {
          "name": "stdout",
          "output_type": "stream",
          "text": [
            "\n",
            "Products\n"
          ]
        },
        {
          "data": {
            "text/html": [
              "<div>\n",
              "<style scoped>\n",
              "    .dataframe tbody tr th:only-of-type {\n",
              "        vertical-align: middle;\n",
              "    }\n",
              "\n",
              "    .dataframe tbody tr th {\n",
              "        vertical-align: top;\n",
              "    }\n",
              "\n",
              "    .dataframe thead th {\n",
              "        text-align: right;\n",
              "    }\n",
              "</style>\n",
              "<table border=\"1\" class=\"dataframe\">\n",
              "  <thead>\n",
              "    <tr style=\"text-align: right;\">\n",
              "      <th></th>\n",
              "      <th>index</th>\n",
              "      <th>Component</th>\n",
              "      <th>Price</th>\n",
              "      <th>Flowrate</th>\n",
              "    </tr>\n",
              "  </thead>\n",
              "  <tbody>\n",
              "    <tr>\n",
              "      <th>0</th>\n",
              "      <td>0</td>\n",
              "      <td>Styrene</td>\n",
              "      <td>0.62</td>\n",
              "      <td>176710400.0</td>\n",
              "    </tr>\n",
              "    <tr>\n",
              "      <th>1</th>\n",
              "      <td>1</td>\n",
              "      <td>Toluene</td>\n",
              "      <td>0.44</td>\n",
              "      <td>34104080.0</td>\n",
              "    </tr>\n",
              "  </tbody>\n",
              "</table>\n",
              "</div>"
            ],
            "text/plain": [
              "   index Component  Price     Flowrate\n",
              "0      0   Styrene   0.62  176710400.0\n",
              "1      1   Toluene   0.44   34104080.0"
            ]
          },
          "metadata": {},
          "output_type": "display_data"
        },
        {
          "name": "stdout",
          "output_type": "stream",
          "text": [
            "\n",
            "Utilities\n"
          ]
        },
        {
          "data": {
            "text/html": [
              "<div>\n",
              "<style scoped>\n",
              "    .dataframe tbody tr th:only-of-type {\n",
              "        vertical-align: middle;\n",
              "    }\n",
              "\n",
              "    .dataframe tbody tr th {\n",
              "        vertical-align: top;\n",
              "    }\n",
              "\n",
              "    .dataframe thead th {\n",
              "        text-align: right;\n",
              "    }\n",
              "</style>\n",
              "<table border=\"1\" class=\"dataframe\">\n",
              "  <thead>\n",
              "    <tr style=\"text-align: right;\">\n",
              "      <th></th>\n",
              "      <th>index</th>\n",
              "      <th>Utility</th>\n",
              "      <th>Price</th>\n",
              "      <th>Unit</th>\n",
              "      <th>Usage</th>\n",
              "    </tr>\n",
              "  </thead>\n",
              "  <tbody>\n",
              "    <tr>\n",
              "      <th>0</th>\n",
              "      <td>0</td>\n",
              "      <td>LPS</td>\n",
              "      <td>13.28000</td>\n",
              "      <td>GJ</td>\n",
              "      <td>0.0</td>\n",
              "    </tr>\n",
              "    <tr>\n",
              "      <th>1</th>\n",
              "      <td>1</td>\n",
              "      <td>MPS</td>\n",
              "      <td>14.19000</td>\n",
              "      <td>GJ</td>\n",
              "      <td>345287.2</td>\n",
              "    </tr>\n",
              "    <tr>\n",
              "      <th>2</th>\n",
              "      <td>2</td>\n",
              "      <td>HPS</td>\n",
              "      <td>17.70000</td>\n",
              "      <td>GJ</td>\n",
              "      <td>0.0</td>\n",
              "    </tr>\n",
              "    <tr>\n",
              "      <th>3</th>\n",
              "      <td>3</td>\n",
              "      <td>Natural Gas</td>\n",
              "      <td>11.00000</td>\n",
              "      <td>GJ</td>\n",
              "      <td>1465552.0</td>\n",
              "    </tr>\n",
              "    <tr>\n",
              "      <th>4</th>\n",
              "      <td>4</td>\n",
              "      <td>Electricity</td>\n",
              "      <td>0.06000</td>\n",
              "      <td>kW-h</td>\n",
              "      <td>1408.0</td>\n",
              "    </tr>\n",
              "    <tr>\n",
              "      <th>5</th>\n",
              "      <td>5</td>\n",
              "      <td>BFW</td>\n",
              "      <td>0.00245</td>\n",
              "      <td>kg</td>\n",
              "      <td>0.0</td>\n",
              "    </tr>\n",
              "    <tr>\n",
              "      <th>6</th>\n",
              "      <td>6</td>\n",
              "      <td>CW</td>\n",
              "      <td>0.35400</td>\n",
              "      <td>GJ</td>\n",
              "      <td>1512536.0</td>\n",
              "    </tr>\n",
              "    <tr>\n",
              "      <th>7</th>\n",
              "      <td>7</td>\n",
              "      <td>RW</td>\n",
              "      <td>4.43000</td>\n",
              "      <td>GJ</td>\n",
              "      <td>0.0</td>\n",
              "    </tr>\n",
              "  </tbody>\n",
              "</table>\n",
              "</div>"
            ],
            "text/plain": [
              "   index      Utility     Price  Unit      Usage\n",
              "0      0          LPS  13.28000    GJ        0.0\n",
              "1      1          MPS  14.19000    GJ   345287.2\n",
              "2      2          HPS  17.70000    GJ        0.0\n",
              "3      3  Natural Gas  11.00000    GJ  1465552.0\n",
              "4      4  Electricity   0.06000  kW-h     1408.0\n",
              "5      5          BFW   0.00245    kg        0.0\n",
              "6      6           CW   0.35400    GJ  1512536.0\n",
              "7      7           RW   4.43000    GJ        0.0"
            ]
          },
          "metadata": {},
          "output_type": "display_data"
        },
        {
          "name": "stdout",
          "output_type": "stream",
          "text": [
            "\n",
            "Credits\n"
          ]
        },
        {
          "data": {
            "text/html": [
              "<div>\n",
              "<style scoped>\n",
              "    .dataframe tbody tr th:only-of-type {\n",
              "        vertical-align: middle;\n",
              "    }\n",
              "\n",
              "    .dataframe tbody tr th {\n",
              "        vertical-align: top;\n",
              "    }\n",
              "\n",
              "    .dataframe thead th {\n",
              "        text-align: right;\n",
              "    }\n",
              "</style>\n",
              "<table border=\"1\" class=\"dataframe\">\n",
              "  <thead>\n",
              "    <tr style=\"text-align: right;\">\n",
              "      <th></th>\n",
              "      <th>index</th>\n",
              "      <th>Utility</th>\n",
              "      <th>Price</th>\n",
              "      <th>Unit</th>\n",
              "      <th>Usage</th>\n",
              "    </tr>\n",
              "  </thead>\n",
              "  <tbody>\n",
              "    <tr>\n",
              "      <th>0</th>\n",
              "      <td>0</td>\n",
              "      <td>LPS</td>\n",
              "      <td>13.28000</td>\n",
              "      <td>GJ</td>\n",
              "      <td>0.0</td>\n",
              "    </tr>\n",
              "    <tr>\n",
              "      <th>1</th>\n",
              "      <td>1</td>\n",
              "      <td>MPS</td>\n",
              "      <td>14.19000</td>\n",
              "      <td>GJ</td>\n",
              "      <td>0.0</td>\n",
              "    </tr>\n",
              "    <tr>\n",
              "      <th>2</th>\n",
              "      <td>2</td>\n",
              "      <td>HPS</td>\n",
              "      <td>17.70000</td>\n",
              "      <td>GJ</td>\n",
              "      <td>0.0</td>\n",
              "    </tr>\n",
              "    <tr>\n",
              "      <th>3</th>\n",
              "      <td>3</td>\n",
              "      <td>Natural Gas</td>\n",
              "      <td>11.00000</td>\n",
              "      <td>GJ</td>\n",
              "      <td>0.0</td>\n",
              "    </tr>\n",
              "    <tr>\n",
              "      <th>4</th>\n",
              "      <td>4</td>\n",
              "      <td>Fuel</td>\n",
              "      <td>9.00000</td>\n",
              "      <td>GJ</td>\n",
              "      <td>273572.8</td>\n",
              "    </tr>\n",
              "    <tr>\n",
              "      <th>5</th>\n",
              "      <td>5</td>\n",
              "      <td>Electricity</td>\n",
              "      <td>0.06000</td>\n",
              "      <td>kW-h</td>\n",
              "      <td>0.0</td>\n",
              "    </tr>\n",
              "    <tr>\n",
              "      <th>6</th>\n",
              "      <td>6</td>\n",
              "      <td>BFW</td>\n",
              "      <td>0.00245</td>\n",
              "      <td>kg</td>\n",
              "      <td>0.0</td>\n",
              "    </tr>\n",
              "    <tr>\n",
              "      <th>7</th>\n",
              "      <td>7</td>\n",
              "      <td>CW</td>\n",
              "      <td>0.35400</td>\n",
              "      <td>GJ</td>\n",
              "      <td>0.0</td>\n",
              "    </tr>\n",
              "    <tr>\n",
              "      <th>8</th>\n",
              "      <td>8</td>\n",
              "      <td>RW</td>\n",
              "      <td>4.43000</td>\n",
              "      <td>GJ</td>\n",
              "      <td>0.0</td>\n",
              "    </tr>\n",
              "  </tbody>\n",
              "</table>\n",
              "</div>"
            ],
            "text/plain": [
              "   index      Utility     Price  Unit     Usage\n",
              "0      0          LPS  13.28000    GJ       0.0\n",
              "1      1          MPS  14.19000    GJ       0.0\n",
              "2      2          HPS  17.70000    GJ       0.0\n",
              "3      3  Natural Gas  11.00000    GJ       0.0\n",
              "4      4         Fuel   9.00000    GJ  273572.8\n",
              "5      5  Electricity   0.06000  kW-h       0.0\n",
              "6      6          BFW   0.00245    kg       0.0\n",
              "7      7           CW   0.35400    GJ       0.0\n",
              "8      8           RW   4.43000    GJ       0.0"
            ]
          },
          "metadata": {},
          "output_type": "display_data"
        }
      ],
      "source": [
        "print('Raw Materials')\n",
        "display(raw_materials)\n",
        "print('\\nProducts')\n",
        "display(products)\n",
        "print('\\nUtilities')\n",
        "display(utilities)\n",
        "print('\\nCredits')\n",
        "display(credits)"
      ]
    },
    {
      "cell_type": "code",
      "execution_count": 45,
      "metadata": {},
      "outputs": [
        {
          "data": {
            "text/html": [
              "<div>\n",
              "<style scoped>\n",
              "    .dataframe tbody tr th:only-of-type {\n",
              "        vertical-align: middle;\n",
              "    }\n",
              "\n",
              "    .dataframe tbody tr th {\n",
              "        vertical-align: top;\n",
              "    }\n",
              "\n",
              "    .dataframe thead th {\n",
              "        text-align: right;\n",
              "    }\n",
              "</style>\n",
              "<table border=\"1\" class=\"dataframe\">\n",
              "  <thead>\n",
              "    <tr style=\"text-align: right;\">\n",
              "      <th></th>\n",
              "      <th>0</th>\n",
              "      <th>1</th>\n",
              "    </tr>\n",
              "  </thead>\n",
              "  <tbody>\n",
              "    <tr>\n",
              "      <th>0</th>\n",
              "      <td>Credits</td>\n",
              "      <td>$2,462,155.20</td>\n",
              "    </tr>\n",
              "    <tr>\n",
              "      <th>1</th>\n",
              "      <td>Revenue</td>\n",
              "      <td>$124,566,243.20</td>\n",
              "    </tr>\n",
              "    <tr>\n",
              "      <th>2</th>\n",
              "      <td>Raw materials</td>\n",
              "      <td>-$106,782,650.43</td>\n",
              "    </tr>\n",
              "    <tr>\n",
              "      <th>3</th>\n",
              "      <td>Equipment loan</td>\n",
              "      <td>-$7,153,149.04</td>\n",
              "    </tr>\n",
              "    <tr>\n",
              "      <th>4</th>\n",
              "      <td>Utilities</td>\n",
              "      <td>-$21,556,219.59</td>\n",
              "    </tr>\n",
              "    <tr>\n",
              "      <th>5</th>\n",
              "      <td>Waste Treatment</td>\n",
              "      <td>-$1,326,460.80</td>\n",
              "    </tr>\n",
              "    <tr>\n",
              "      <th>6</th>\n",
              "      <td>Profit</td>\n",
              "      <td>$-9,790,081.47</td>\n",
              "    </tr>\n",
              "  </tbody>\n",
              "</table>\n",
              "</div>"
            ],
            "text/plain": [
              "                 0                 1\n",
              "0          Credits     $2,462,155.20\n",
              "1          Revenue   $124,566,243.20\n",
              "2    Raw materials  -$106,782,650.43\n",
              "3   Equipment loan    -$7,153,149.04\n",
              "4        Utilities   -$21,556,219.59\n",
              "5  Waste Treatment    -$1,326,460.80\n",
              "6           Profit    $-9,790,081.47"
            ]
          },
          "execution_count": 45,
          "metadata": {},
          "output_type": "execute_result"
        }
      ],
      "source": [
        "finances, annual_cost = annual(products, raw_materials, total_installed_cost, 0.15, n, utilities, waste_treatment, credits)\n",
        "finances"
      ]
    },
    {
      "cell_type": "code",
      "execution_count": 46,
      "metadata": {},
      "outputs": [
        {
          "name": "stdout",
          "output_type": "stream",
          "text": [
            "Net Present Value: $-49,253,571.93\n"
          ]
        }
      ],
      "source": [
        "npv = npf.npv(0.2, annual_cost)\n",
        "print('Net Present Value: ${:,.2f}'.format(npv))"
      ]
    },
    {
      "cell_type": "code",
      "execution_count": 47,
      "metadata": {},
      "outputs": [
        {
          "data": {
            "image/png": "[encoded data removed]",
            "text/plain": [
              "<Figure size 1440x504 with 2 Axes>"
            ]
          },
          "metadata": {
            "needs_background": "light"
          },
          "output_type": "display_data"
        }
      ],
      "source": [
        "cash_flow(annual_cost, 0.2)"
      ]
    },
    {
      "cell_type": "code",
      "execution_count": 48,
      "metadata": {
        "id": "mPTcJ9ZSIR0T"
      },
      "outputs": [],
      "source": [
        "# Add Monte Carlo Simulation\n",
        "# Improve cash flow calcs and graphs\n",
        "# Improve equipment pricing"
      ]
    },
    {
      "cell_type": "code",
      "execution_count": null,
      "metadata": {},
      "outputs": [],
      "source": []
    }
  ],
  "metadata": {
    "colab": {
      "collapsed_sections": [],
      "name": "CapitalCost.ipynb",
      "provenance": []
    },
    "kernelspec": {
      "display_name": "Python 3",
      "name": "python3"
    },
    "language_info": {
      "codemirror_mode": {
        "name": "ipython",
        "version": 3
      },
      "file_extension": ".py",
      "mimetype": "text/x-python",
      "name": "python",
      "nbconvert_exporter": "python",
      "pygments_lexer": "ipython3",
      "version": "3.8.3"
    }
  },
  "nbformat": 4,
  "nbformat_minor": 0
}
