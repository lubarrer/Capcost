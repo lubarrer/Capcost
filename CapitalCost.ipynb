{
  "cells": [
    {
      "cell_type": "code",
      "execution_count": 9,
      "metadata": {
        "id": "xQk4ZWm_6biJ"
      },
      "outputs": [
        {
          "data": {
            "text/html": [
              "<style>\n",
              ".output {\n",
              "    flex-direction: row;\n",
              "}\n",
              "</style>"
            ],
            "text/plain": [
              "<IPython.core.display.HTML object>"
            ]
          },
          "execution_count": 9,
          "metadata": {},
          "output_type": "execute_result"
        }
      ],
      "source": [
        "import numpy as np\n",
        "import pandas as pd\n",
        "import matplotlib.pyplot as plt\n",
        "from IPython.display import display, HTML\n",
        "from scripts.helpful_scripts import annual, cash_flow\n",
        "from numpy_financial import numpy_financial as npf\n",
        "\n",
        "css = \"\"\"\n",
        ".output {\n",
        "    flex-direction: row;\n",
        "}\n",
        "\"\"\"\n",
        "\n",
        "HTML('<style>{}</style>'.format(css))"
      ]
    },
    {
      "cell_type": "code",
      "execution_count": 10,
      "metadata": {
        "id": "aTfmmHRVA1G2"
      },
      "outputs": [],
      "source": [
        "raw_materials = pd.DataFrame({'Component': ['Ethylbenzene', 'Waste Water', 'Catalyst'],\n",
        "                                'Price': [0.5, 0.005, 1], #($/lb_m)\n",
        "                                'Flowrate': [\n",
        "                                    (((22001.6)+(24682.8)*0.959)-(45851.5)*0.478)*8000, 49246.63966*8000, 22857.14]}).reset_index() # lb_m/op_yr\n",
        "\n",
        "products = pd.DataFrame({'Component': ['Styrene', 'Toluene'],\n",
        "                          'Price': [0.62, 0.44], #($/lb_m)\n",
        "                          'Flowrate': [(45851.5)*0.494*8000,\n",
        "                                        (45851.5)*0.019*8000]}).reset_index() # lb_m/op_yr\n",
        "                    \n",
        "utilities = pd.DataFrame({'Utility': ['LPS', 'MPS', 'HPS', 'Natural Gas', 'Electricity', 'BFW', 'CW', 'RW'],\n",
        "                          'Price': [13.28, 14.19, 17.70, 11.00, 0.06, 2.45/1000, 0.354, 4.43],\n",
        "                          'Unit': ['GJ', 'GJ', 'GJ', 'GJ', 'kW-h', 'kg', 'GJ', 'GJ'],\n",
        "                          'Usage': [46.6746*8000, 0, 0, 61.5228*8000, 3552, 0, (104.273+4.38627)*8000, 0]}).reset_index()\n",
        "\n",
        "credits = pd.DataFrame({'Utility': ['LPS', 'MPS', 'HPS', 'Natural Gas', 'Fuel', 'Electricity', 'BFW', 'CW', 'RW'],\n",
        "                          'Price': [13.28, 14.19, 17.70, 11.00, 9.00, 0.06, 2.45/1000, 0.354, 4.43],\n",
        "                          'Unit': ['GJ', 'GJ', 'GJ', 'GJ', 'GJ', 'kW-h', 'kg', 'GJ', 'GJ'],\n",
        "                          'Usage': [0, 0, (2.892376349)*8000, 0, (224261.8+8241.8), 0, 0, 0, 0]}).reset_index()\n",
        "\n",
        "total_installed_cost = (8_464_000+200_000+100_000+600_000)\n",
        "waste_treatment = 247.81*8000\n",
        "interest = 0.2 # interest rate\n",
        "n = 10 # project life"
      ]
    },
    {
      "cell_type": "code",
      "execution_count": 11,
      "metadata": {},
      "outputs": [
        {
          "name": "stdout",
          "output_type": "stream",
          "text": [
            "22650.641\n"
          ]
        }
      ],
      "source": [
        "print((45851.5)*0.494)"
      ]
    },
    {
      "cell_type": "code",
      "execution_count": 12,
      "metadata": {
        "colab": {
          "base_uri": "https://localhost:8080/",
          "height": 902
        },
        "id": "DzXrhvu3BZwb",
        "outputId": "25d4650f-167e-415d-b8ac-57bbcde688fb"
      },
      "outputs": [
        {
          "name": "stdout",
          "output_type": "stream",
          "text": [
            "Raw Materials\n"
          ]
        },
        {
          "data": {
            "text/html": [
              "<div>\n",
              "<style scoped>\n",
              "    .dataframe tbody tr th:only-of-type {\n",
              "        vertical-align: middle;\n",
              "    }\n",
              "\n",
              "    .dataframe tbody tr th {\n",
              "        vertical-align: top;\n",
              "    }\n",
              "\n",
              "    .dataframe thead th {\n",
              "        text-align: right;\n",
              "    }\n",
              "</style>\n",
              "<table border=\"1\" class=\"dataframe\">\n",
              "  <thead>\n",
              "    <tr style=\"text-align: right;\">\n",
              "      <th></th>\n",
              "      <th>index</th>\n",
              "      <th>Component</th>\n",
              "      <th>Price</th>\n",
              "      <th>Flowrate</th>\n",
              "    </tr>\n",
              "  </thead>\n",
              "  <tbody>\n",
              "    <tr>\n",
              "      <th>0</th>\n",
              "      <td>0</td>\n",
              "      <td>Ethylbenzene</td>\n",
              "      <td>0.500</td>\n",
              "      <td>1.900431e+08</td>\n",
              "    </tr>\n",
              "    <tr>\n",
              "      <th>1</th>\n",
              "      <td>1</td>\n",
              "      <td>Waste Water</td>\n",
              "      <td>0.005</td>\n",
              "      <td>3.939731e+08</td>\n",
              "    </tr>\n",
              "    <tr>\n",
              "      <th>2</th>\n",
              "      <td>2</td>\n",
              "      <td>Catalyst</td>\n",
              "      <td>1.000</td>\n",
              "      <td>2.285714e+04</td>\n",
              "    </tr>\n",
              "  </tbody>\n",
              "</table>\n",
              "</div>"
            ],
            "text/plain": [
              "   index     Component  Price      Flowrate\n",
              "0      0  Ethylbenzene  0.500  1.900431e+08\n",
              "1      1   Waste Water  0.005  3.939731e+08\n",
              "2      2      Catalyst  1.000  2.285714e+04"
            ]
          },
          "metadata": {},
          "output_type": "display_data"
        },
        {
          "name": "stdout",
          "output_type": "stream",
          "text": [
            "\n",
            "Products\n"
          ]
        },
        {
          "data": {
            "text/html": [
              "<div>\n",
              "<style scoped>\n",
              "    .dataframe tbody tr th:only-of-type {\n",
              "        vertical-align: middle;\n",
              "    }\n",
              "\n",
              "    .dataframe tbody tr th {\n",
              "        vertical-align: top;\n",
              "    }\n",
              "\n",
              "    .dataframe thead th {\n",
              "        text-align: right;\n",
              "    }\n",
              "</style>\n",
              "<table border=\"1\" class=\"dataframe\">\n",
              "  <thead>\n",
              "    <tr style=\"text-align: right;\">\n",
              "      <th></th>\n",
              "      <th>index</th>\n",
              "      <th>Component</th>\n",
              "      <th>Price</th>\n",
              "      <th>Flowrate</th>\n",
              "    </tr>\n",
              "  </thead>\n",
              "  <tbody>\n",
              "    <tr>\n",
              "      <th>0</th>\n",
              "      <td>0</td>\n",
              "      <td>Styrene</td>\n",
              "      <td>0.62</td>\n",
              "      <td>181205128.0</td>\n",
              "    </tr>\n",
              "    <tr>\n",
              "      <th>1</th>\n",
              "      <td>1</td>\n",
              "      <td>Toluene</td>\n",
              "      <td>0.44</td>\n",
              "      <td>6969428.0</td>\n",
              "    </tr>\n",
              "  </tbody>\n",
              "</table>\n",
              "</div>"
            ],
            "text/plain": [
              "   index Component  Price     Flowrate\n",
              "0      0   Styrene   0.62  181205128.0\n",
              "1      1   Toluene   0.44    6969428.0"
            ]
          },
          "metadata": {},
          "output_type": "display_data"
        },
        {
          "name": "stdout",
          "output_type": "stream",
          "text": [
            "\n",
            "Utilities\n"
          ]
        },
        {
          "data": {
            "text/html": [
              "<div>\n",
              "<style scoped>\n",
              "    .dataframe tbody tr th:only-of-type {\n",
              "        vertical-align: middle;\n",
              "    }\n",
              "\n",
              "    .dataframe tbody tr th {\n",
              "        vertical-align: top;\n",
              "    }\n",
              "\n",
              "    .dataframe thead th {\n",
              "        text-align: right;\n",
              "    }\n",
              "</style>\n",
              "<table border=\"1\" class=\"dataframe\">\n",
              "  <thead>\n",
              "    <tr style=\"text-align: right;\">\n",
              "      <th></th>\n",
              "      <th>index</th>\n",
              "      <th>Utility</th>\n",
              "      <th>Price</th>\n",
              "      <th>Unit</th>\n",
              "      <th>Usage</th>\n",
              "    </tr>\n",
              "  </thead>\n",
              "  <tbody>\n",
              "    <tr>\n",
              "      <th>0</th>\n",
              "      <td>0</td>\n",
              "      <td>LPS</td>\n",
              "      <td>13.28000</td>\n",
              "      <td>GJ</td>\n",
              "      <td>373396.80</td>\n",
              "    </tr>\n",
              "    <tr>\n",
              "      <th>1</th>\n",
              "      <td>1</td>\n",
              "      <td>MPS</td>\n",
              "      <td>14.19000</td>\n",
              "      <td>GJ</td>\n",
              "      <td>0.00</td>\n",
              "    </tr>\n",
              "    <tr>\n",
              "      <th>2</th>\n",
              "      <td>2</td>\n",
              "      <td>HPS</td>\n",
              "      <td>17.70000</td>\n",
              "      <td>GJ</td>\n",
              "      <td>0.00</td>\n",
              "    </tr>\n",
              "    <tr>\n",
              "      <th>3</th>\n",
              "      <td>3</td>\n",
              "      <td>Natural Gas</td>\n",
              "      <td>11.00000</td>\n",
              "      <td>GJ</td>\n",
              "      <td>492182.40</td>\n",
              "    </tr>\n",
              "    <tr>\n",
              "      <th>4</th>\n",
              "      <td>4</td>\n",
              "      <td>Electricity</td>\n",
              "      <td>0.06000</td>\n",
              "      <td>kW-h</td>\n",
              "      <td>3552.00</td>\n",
              "    </tr>\n",
              "    <tr>\n",
              "      <th>5</th>\n",
              "      <td>5</td>\n",
              "      <td>BFW</td>\n",
              "      <td>0.00245</td>\n",
              "      <td>kg</td>\n",
              "      <td>0.00</td>\n",
              "    </tr>\n",
              "    <tr>\n",
              "      <th>6</th>\n",
              "      <td>6</td>\n",
              "      <td>CW</td>\n",
              "      <td>0.35400</td>\n",
              "      <td>GJ</td>\n",
              "      <td>869274.16</td>\n",
              "    </tr>\n",
              "    <tr>\n",
              "      <th>7</th>\n",
              "      <td>7</td>\n",
              "      <td>RW</td>\n",
              "      <td>4.43000</td>\n",
              "      <td>GJ</td>\n",
              "      <td>0.00</td>\n",
              "    </tr>\n",
              "  </tbody>\n",
              "</table>\n",
              "</div>"
            ],
            "text/plain": [
              "   index      Utility     Price  Unit      Usage\n",
              "0      0          LPS  13.28000    GJ  373396.80\n",
              "1      1          MPS  14.19000    GJ       0.00\n",
              "2      2          HPS  17.70000    GJ       0.00\n",
              "3      3  Natural Gas  11.00000    GJ  492182.40\n",
              "4      4  Electricity   0.06000  kW-h    3552.00\n",
              "5      5          BFW   0.00245    kg       0.00\n",
              "6      6           CW   0.35400    GJ  869274.16\n",
              "7      7           RW   4.43000    GJ       0.00"
            ]
          },
          "metadata": {},
          "output_type": "display_data"
        },
        {
          "name": "stdout",
          "output_type": "stream",
          "text": [
            "\n",
            "Credits\n"
          ]
        },
        {
          "data": {
            "text/html": [
              "<div>\n",
              "<style scoped>\n",
              "    .dataframe tbody tr th:only-of-type {\n",
              "        vertical-align: middle;\n",
              "    }\n",
              "\n",
              "    .dataframe tbody tr th {\n",
              "        vertical-align: top;\n",
              "    }\n",
              "\n",
              "    .dataframe thead th {\n",
              "        text-align: right;\n",
              "    }\n",
              "</style>\n",
              "<table border=\"1\" class=\"dataframe\">\n",
              "  <thead>\n",
              "    <tr style=\"text-align: right;\">\n",
              "      <th></th>\n",
              "      <th>index</th>\n",
              "      <th>Utility</th>\n",
              "      <th>Price</th>\n",
              "      <th>Unit</th>\n",
              "      <th>Usage</th>\n",
              "    </tr>\n",
              "  </thead>\n",
              "  <tbody>\n",
              "    <tr>\n",
              "      <th>0</th>\n",
              "      <td>0</td>\n",
              "      <td>LPS</td>\n",
              "      <td>13.28000</td>\n",
              "      <td>GJ</td>\n",
              "      <td>0.000000</td>\n",
              "    </tr>\n",
              "    <tr>\n",
              "      <th>1</th>\n",
              "      <td>1</td>\n",
              "      <td>MPS</td>\n",
              "      <td>14.19000</td>\n",
              "      <td>GJ</td>\n",
              "      <td>0.000000</td>\n",
              "    </tr>\n",
              "    <tr>\n",
              "      <th>2</th>\n",
              "      <td>2</td>\n",
              "      <td>HPS</td>\n",
              "      <td>17.70000</td>\n",
              "      <td>GJ</td>\n",
              "      <td>23139.010792</td>\n",
              "    </tr>\n",
              "    <tr>\n",
              "      <th>3</th>\n",
              "      <td>3</td>\n",
              "      <td>Natural Gas</td>\n",
              "      <td>11.00000</td>\n",
              "      <td>GJ</td>\n",
              "      <td>0.000000</td>\n",
              "    </tr>\n",
              "    <tr>\n",
              "      <th>4</th>\n",
              "      <td>4</td>\n",
              "      <td>Fuel</td>\n",
              "      <td>9.00000</td>\n",
              "      <td>GJ</td>\n",
              "      <td>232503.600000</td>\n",
              "    </tr>\n",
              "    <tr>\n",
              "      <th>5</th>\n",
              "      <td>5</td>\n",
              "      <td>Electricity</td>\n",
              "      <td>0.06000</td>\n",
              "      <td>kW-h</td>\n",
              "      <td>0.000000</td>\n",
              "    </tr>\n",
              "    <tr>\n",
              "      <th>6</th>\n",
              "      <td>6</td>\n",
              "      <td>BFW</td>\n",
              "      <td>0.00245</td>\n",
              "      <td>kg</td>\n",
              "      <td>0.000000</td>\n",
              "    </tr>\n",
              "    <tr>\n",
              "      <th>7</th>\n",
              "      <td>7</td>\n",
              "      <td>CW</td>\n",
              "      <td>0.35400</td>\n",
              "      <td>GJ</td>\n",
              "      <td>0.000000</td>\n",
              "    </tr>\n",
              "    <tr>\n",
              "      <th>8</th>\n",
              "      <td>8</td>\n",
              "      <td>RW</td>\n",
              "      <td>4.43000</td>\n",
              "      <td>GJ</td>\n",
              "      <td>0.000000</td>\n",
              "    </tr>\n",
              "  </tbody>\n",
              "</table>\n",
              "</div>"
            ],
            "text/plain": [
              "   index      Utility     Price  Unit          Usage\n",
              "0      0          LPS  13.28000    GJ       0.000000\n",
              "1      1          MPS  14.19000    GJ       0.000000\n",
              "2      2          HPS  17.70000    GJ   23139.010792\n",
              "3      3  Natural Gas  11.00000    GJ       0.000000\n",
              "4      4         Fuel   9.00000    GJ  232503.600000\n",
              "5      5  Electricity   0.06000  kW-h       0.000000\n",
              "6      6          BFW   0.00245    kg       0.000000\n",
              "7      7           CW   0.35400    GJ       0.000000\n",
              "8      8           RW   4.43000    GJ       0.000000"
            ]
          },
          "metadata": {},
          "output_type": "display_data"
        }
      ],
      "source": [
        "print('Raw Materials')\n",
        "display(raw_materials)\n",
        "print('\\nProducts')\n",
        "display(products)\n",
        "print('\\nUtilities')\n",
        "display(utilities)\n",
        "print('\\nCredits')\n",
        "display(credits)"
      ]
    },
    {
      "cell_type": "code",
      "execution_count": 13,
      "metadata": {},
      "outputs": [
        {
          "data": {
            "text/html": [
              "<div>\n",
              "<style scoped>\n",
              "    .dataframe tbody tr th:only-of-type {\n",
              "        vertical-align: middle;\n",
              "    }\n",
              "\n",
              "    .dataframe tbody tr th {\n",
              "        vertical-align: top;\n",
              "    }\n",
              "\n",
              "    .dataframe thead th {\n",
              "        text-align: right;\n",
              "    }\n",
              "</style>\n",
              "<table border=\"1\" class=\"dataframe\">\n",
              "  <thead>\n",
              "    <tr style=\"text-align: right;\">\n",
              "      <th></th>\n",
              "      <th>0</th>\n",
              "      <th>1</th>\n",
              "    </tr>\n",
              "  </thead>\n",
              "  <tbody>\n",
              "    <tr>\n",
              "      <th>0</th>\n",
              "      <td>Credits</td>\n",
              "      <td>$2,502,092.89</td>\n",
              "    </tr>\n",
              "    <tr>\n",
              "      <th>1</th>\n",
              "      <td>Revenue</td>\n",
              "      <td>$115,413,727.68</td>\n",
              "    </tr>\n",
              "    <tr>\n",
              "      <th>2</th>\n",
              "      <td>Raw materials</td>\n",
              "      <td>-$97,014,275.53</td>\n",
              "    </tr>\n",
              "    <tr>\n",
              "      <th>3</th>\n",
              "      <td>Equipment loan</td>\n",
              "      <td>-$1,865,796.31</td>\n",
              "    </tr>\n",
              "    <tr>\n",
              "      <th>4</th>\n",
              "      <td>Utilities</td>\n",
              "      <td>-$10,680,652.08</td>\n",
              "    </tr>\n",
              "    <tr>\n",
              "      <th>5</th>\n",
              "      <td>Waste Treatment</td>\n",
              "      <td>-$1,982,480.00</td>\n",
              "    </tr>\n",
              "    <tr>\n",
              "      <th>6</th>\n",
              "      <td>Profit</td>\n",
              "      <td>$6,372,616.65</td>\n",
              "    </tr>\n",
              "  </tbody>\n",
              "</table>\n",
              "</div>"
            ],
            "text/plain": [
              "                 0                1\n",
              "0          Credits    $2,502,092.89\n",
              "1          Revenue  $115,413,727.68\n",
              "2    Raw materials  -$97,014,275.53\n",
              "3   Equipment loan   -$1,865,796.31\n",
              "4        Utilities  -$10,680,652.08\n",
              "5  Waste Treatment   -$1,982,480.00\n",
              "6           Profit    $6,372,616.65"
            ]
          },
          "execution_count": 13,
          "metadata": {},
          "output_type": "execute_result"
        }
      ],
      "source": [
        "finances, annual_cost = annual(products, raw_materials, total_installed_cost, 0.15, n, utilities, waste_treatment, credits)\n",
        "finances"
      ]
    },
    {
      "cell_type": "code",
      "execution_count": 14,
      "metadata": {},
      "outputs": [
        {
          "name": "stdout",
          "output_type": "stream",
          "text": [
            "Net Present Value: $32,060,420.92\n"
          ]
        }
      ],
      "source": [
        "npv = npf.npv(0.2, annual_cost)\n",
        "print('Net Present Value: ${:,.2f}'.format(npv))"
      ]
    },
    {
      "cell_type": "code",
      "execution_count": 15,
      "metadata": {},
      "outputs": [
        {
          "data": {
            "image/png": "[encoded data removed]",
            "text/plain": [
              "<Figure size 1440x504 with 2 Axes>"
            ]
          },
          "metadata": {
            "needs_background": "dark"
          },
          "output_type": "display_data"
        }
      ],
      "source": [
        "cash_flow(annual_cost, 0.2)"
      ]
    },
    {
      "cell_type": "code",
      "execution_count": 16,
      "metadata": {
        "id": "mPTcJ9ZSIR0T"
      },
      "outputs": [],
      "source": [
        "# Cash Flow Calculator and graph\n",
        "# Add Monte Carlo Simulation\n",
        "# Equipment Pricing"
      ]
    }
  ],
  "metadata": {
    "colab": {
      "collapsed_sections": [],
      "name": "CapitalCost.ipynb",
      "provenance": []
    },
    "kernelspec": {
      "display_name": "Python 3",
      "name": "python3"
    },
    "language_info": {
      "codemirror_mode": {
        "name": "ipython",
        "version": 3
      },
      "file_extension": ".py",
      "mimetype": "text/x-python",
      "name": "python",
      "nbconvert_exporter": "python",
      "pygments_lexer": "ipython3",
      "version": "3.8.3"
    }
  },
  "nbformat": 4,
  "nbformat_minor": 0
}
